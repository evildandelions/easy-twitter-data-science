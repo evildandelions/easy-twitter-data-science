{
 "cells": [
  {
   "cell_type": "markdown",
   "metadata": {},
   "source": [
    "<img src=\"twitter.png\" alt=\"Drawing\" style=\"width: 100px;\"/> \n",
    "    <br><br>\n",
    "<center>\n",
    "    Example workbook for basic data science using the Twitter API. For more information view the <a href=\"https://github.com/kris-nova/easy-twitter-data-science\">project on github.</a>\n",
    "<br>\n",
    "    <b>Author</b>: Kris Childress <a href=mailto:kris@nivenly.com>kris@nivenly.com</a>\n",
    "\n",
    "</center>"
   ]
  },
  {
   "cell_type": "markdown",
   "metadata": {},
   "source": [
    "<b>[Credentials]</b>\n",
    "<ol>\n",
    "  <li>A valid Twitter app is required.</li>\n",
    "  <li><a href=\"https://apps.twitter.com/app/new\">Create</a> a new app if you don't have one already.</li>\n",
    "  <li>Generate an access token for your app if you don't have one already.</li>\n",
    "</ol> "
   ]
  },
  {
   "cell_type": "code",
   "execution_count": 1,
   "metadata": {
    "collapsed": true
   },
   "outputs": [],
   "source": [
    "# Define your unique twitter app credentials here\n",
    "access_token = \"\"\n",
    "access_token_secret = \"\"\n",
    "consumer_key = \"\"\n",
    "consumer_secret = \"\""
   ]
  },
  {
   "cell_type": "markdown",
   "metadata": {},
   "source": [
    "<b>[Init and Stream]</b> <br>\n",
    "This will init a multi-threaded stream to the Twitter API."
   ]
  },
  {
   "cell_type": "code",
   "execution_count": 2,
   "metadata": {
    "collapsed": false
   },
   "outputs": [],
   "source": [
    "%matplotlib inline\n",
    "import sys\n",
    "sys.path.append('../')\n",
    "from tweepy import OAuthHandler\n",
    "from tweepy import Stream\n",
    "from Twitter import Runtime\n",
    "from Twitter import InMemory\n",
    "import matplotlib.pyplot as plt\n",
    "import numpy as np\n",
    "import json\n",
    "import datetime\n",
    "import time\n",
    "tweets = InMemory.Tweets()\n",
    "listener = Runtime.Listener(tweets)\n",
    "auth = OAuthHandler(consumer_key, consumer_secret)\n",
    "auth.set_access_token(access_token, access_token_secret)\n",
    "stream = Stream(auth, listener)"
   ]
  },
  {
   "cell_type": "markdown",
   "metadata": {},
   "source": [
    "<b>[Filter]</b> <br>\n",
    "Filter all of your tweets by a list of keywords. <br>\n",
    "<i>Note: async=True should not be changed</i>"
   ]
  },
  {
   "cell_type": "code",
   "execution_count": 3,
   "metadata": {
    "collapsed": false
   },
   "outputs": [],
   "source": [
    "stream.filter(track=[\"lesbian\"], async=True)"
   ]
  },
  {
   "cell_type": "markdown",
   "metadata": {},
   "source": [
    "<b>[Plot]</b> <br>\n",
    "Now we have a buffer of tweets in memory, we can play with the data here."
   ]
  },
  {
   "cell_type": "code",
   "execution_count": 4,
   "metadata": {
    "collapsed": false
   },
   "outputs": [
    {
     "data": {
      "image/png": "[encoded data removed]",
      "text/plain": [
       "<matplotlib.figure.Figure at 0x10ca69750>"
      ]
     },
     "metadata": {},
     "output_type": "display_data"
    }
   ],
   "source": [
    "# Get our current tweets in the buffer\n",
    "data = tweets.get_list()\n",
    "raw = {}\n",
    "# Loop over tweets and build our data sets\n",
    "for created_at in data:\n",
    "    # This tweet\n",
    "    tweet = data[created_at]\n",
    "\n",
    "    # Created At\n",
    "    dt = datetime.datetime.strptime(created_at, '%a %b %d %H:%M:%S +0000 %Y')\n",
    "    x = int(time.mktime(dt.timetuple()))\n",
    "    \n",
    "    # Number of URLs\n",
    "    y = int(len(tweet['entities']['urls']))\n",
    "    \n",
    "    # X and Y values must b Integers\n",
    "    plt.scatter(x,y)\n",
    "    raw[x] = y\n",
    "        \n",
    "# Graph settings\n",
    "plt.title(\"Tweets containing 'lesbian' - URLs over Epoch MS\")\n",
    "plt.xlabel('Epoch MS')\n",
    "plt.ylabel('Number of URLs')\n",
    "\n",
    "# Build the graph\n",
    "plt.show()\n"
   ]
  },
  {
   "cell_type": "markdown",
   "metadata": {},
   "source": [
    "<b>[Raw Data Set]</b> <br>\n",
    "The raw data from above"
   ]
  },
  {
   "cell_type": "code",
   "execution_count": 5,
   "metadata": {
    "collapsed": false
   },
   "outputs": [
    {
     "name": "stdout",
     "output_type": "stream",
     "text": [
      "1473675487 1\n"
     ]
    }
   ],
   "source": [
    "# Comment this out to turn this on/off\n",
    "for r in raw:\n",
    "    x = r\n",
    "    y = raw[x]\n",
    "    print x, y"
   ]
  },
  {
   "cell_type": "markdown",
   "metadata": {
    "collapsed": true
   },
   "source": [
    "<b>[Example Payload]</b> <br>\n",
    "In case you need to see what a Tweet looks like"
   ]
  },
  {
   "cell_type": "code",
   "execution_count": null,
   "metadata": {
    "collapsed": true
   },
   "outputs": [],
   "source": []
  },
  {
   "cell_type": "code",
   "execution_count": 7,
   "metadata": {
    "collapsed": false
   },
   "outputs": [],
   "source": [
    "str = json.dumps(tweets.get_tweet(), indent=2, sort_keys=True)\n",
    "\n",
    "# Comment this out to turn this on/off\n",
    "#print str"
   ]
  },
  {
   "cell_type": "code",
   "execution_count": null,
   "metadata": {
    "collapsed": true
   },
   "outputs": [],
   "source": []
  }
 ],
 "metadata": {
  "anaconda-cloud": {},
  "kernelspec": {
   "display_name": "Python [Root]",
   "language": "python",
   "name": "Python [Root]"
  },
  "language_info": {
   "codemirror_mode": {
    "name": "ipython",
    "version": 2
   },
   "file_extension": ".py",
   "mimetype": "text/x-python",
   "name": "python",
   "nbconvert_exporter": "python",
   "pygments_lexer": "ipython2",
   "version": "2.7.12"
  }
 },
 "nbformat": 4,
 "nbformat_minor": 0
}
